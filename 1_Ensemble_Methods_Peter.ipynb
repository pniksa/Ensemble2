{
 "cells": [
  {
   "cell_type": "markdown",
   "metadata": {},
   "source": [
    "## DO NOT RUN THE CELLS. CODE is included here for you to refer to for your future projects."
   ]
  },
  {
   "cell_type": "markdown",
   "metadata": {},
   "source": [
    "# Max Voting \n",
    "\n",
    "from sklearn.ensemble import VotingClassifier\n",
    "\n",
    "model1 = LogisticRegression(random_state=1)\n",
    "\n",
    "model2 = tree.DecisionTreeClassifier(random_state=1)\n",
    "\n",
    "model = VotingClassifier(estimators=[('lr', model1), ('dt', model2)], voting='hard')\n",
    "\n",
    "model.fit(x_train,y_train)\n",
    "\n",
    "model.score(x_test,y_test)"
   ]
  },
  {
   "cell_type": "markdown",
   "metadata": {},
   "source": [
    "# Averaging\n",
    "\n",
    "model1 = tree.DecisionTreeClassifier()\n",
    "\n",
    "model2 = KNeighborsClassifier()\n",
    "\n",
    "model3= LogisticRegression()\n",
    "\n",
    "model1.fit(x_train,y_train)\n",
    "\n",
    "model2.fit(x_train,y_train)\n",
    "\n",
    "model3.fit(x_train,y_train)\n",
    "\n",
    "pred1=model1.predict_proba(x_test)\n",
    "\n",
    "pred2=model2.predict_proba(x_test)\n",
    "\n",
    "pred3=model3.predict_proba(x_test)\n",
    "\n",
    "finalpred=(pred1+pred2+pred3)/3"
   ]
  },
  {
   "cell_type": "markdown",
   "metadata": {},
   "source": [
    "# Weighted Average\n",
    "\n",
    "model1 = tree.DecisionTreeClassifier()\n",
    "\n",
    "model2 = KNeighborsClassifier()\n",
    "\n",
    "model3= LogisticRegression()\n",
    "\n",
    "model1.fit(x_train,y_train)\n",
    "\n",
    "model2.fit(x_train,y_train)\n",
    "\n",
    "model3.fit(x_train,y_train)\n",
    "\n",
    "pred1=model1.predict_proba(x_test)\n",
    "\n",
    "pred2=model2.predict_proba(x_test)\n",
    "\n",
    "pred3=model3.predict_proba(x_test)\n",
    "\n",
    "finalpred=(pred1*0.3+pred2*0.3+pred3*0.4)"
   ]
  },
  {
   "cell_type": "code",
   "execution_count": 65,
   "metadata": {},
   "outputs": [],
   "source": [
    "# Stacking \n",
    "# Stacking method given model, train and y (series) data set, test set, number of splits\n",
    "import numpy as np\n",
    "from sklearn.model_selection import StratifiedKFold\n",
    "import pandas as pd\n",
    "def Stacking(model,train,y,test,n_fold):\n",
    "    # generates folds as StratifiedKFold which can be used to split data into equal subsets, if possible.\n",
    "    folds=StratifiedKFold(n_splits=n_fold,random_state=1)\n",
    "    #creates empty numpy vector for test predicitions\n",
    "    test_pred=np.empty((test.shape[0],1),float)\n",
    "    #creates empty numpy vector for train predicitions\n",
    "    train_pred=np.empty((0,1),float)\n",
    "    #generates splits of train and y by shuffling index-sets\n",
    "    for train_indices,val_indices in folds.split(train,y.values):\n",
    "        # fixes x_train and x_val givfen previous indices to generatre another subset\n",
    "        x_train,x_val=train.iloc[train_indices],train.iloc[val_indices]\n",
    "        # fixes y_train and y_val givfen previous indices to generatre another subset\n",
    "        y_train,y_val=y.iloc[train_indices],y.iloc[val_indices]\n",
    "        # the given model is fitted with x and y train\n",
    "        model.fit(X=x_train,y=y_train)\n",
    "        # prediction array gains element x_val\n",
    "        train_pred=np.append(train_pred,model.predict(x_val))\n",
    "        # predection given the given test set\n",
    "        test_pred=np.append(test_pred,model.predict(test))\n",
    "    # return test and train predicitons\n",
    "    #return test_pred.reshape(-1,1),train_pred\n",
    "    return test_pred,train_pred"
   ]
  },
  {
   "cell_type": "code",
   "execution_count": 67,
   "metadata": {},
   "outputs": [
    {
     "name": "stdout",
     "output_type": "stream",
     "text": [
      "20 60 220 60\n"
     ]
    },
    {
     "name": "stderr",
     "output_type": "stream",
     "text": [
      "/Users/peterniksa/anaconda3/lib/python3.7/site-packages/ipykernel_launcher.py:20: DataConversionWarning: A column-vector y was passed when a 1d array was expected. Please change the shape of y to (n_samples, ), for example using ravel().\n",
      "/Users/peterniksa/anaconda3/lib/python3.7/site-packages/ipykernel_launcher.py:20: DataConversionWarning: A column-vector y was passed when a 1d array was expected. Please change the shape of y to (n_samples, ), for example using ravel().\n",
      "/Users/peterniksa/anaconda3/lib/python3.7/site-packages/ipykernel_launcher.py:20: DataConversionWarning: A column-vector y was passed when a 1d array was expected. Please change the shape of y to (n_samples, ), for example using ravel().\n",
      "/Users/peterniksa/anaconda3/lib/python3.7/site-packages/ipykernel_launcher.py:20: DataConversionWarning: A column-vector y was passed when a 1d array was expected. Please change the shape of y to (n_samples, ), for example using ravel().\n",
      "/Users/peterniksa/anaconda3/lib/python3.7/site-packages/ipykernel_launcher.py:20: DataConversionWarning: A column-vector y was passed when a 1d array was expected. Please change the shape of y to (n_samples, ), for example using ravel().\n",
      "/Users/peterniksa/anaconda3/lib/python3.7/site-packages/ipykernel_launcher.py:20: DataConversionWarning: A column-vector y was passed when a 1d array was expected. Please change the shape of y to (n_samples, ), for example using ravel().\n",
      "/Users/peterniksa/anaconda3/lib/python3.7/site-packages/ipykernel_launcher.py:20: DataConversionWarning: A column-vector y was passed when a 1d array was expected. Please change the shape of y to (n_samples, ), for example using ravel().\n",
      "/Users/peterniksa/anaconda3/lib/python3.7/site-packages/ipykernel_launcher.py:20: DataConversionWarning: A column-vector y was passed when a 1d array was expected. Please change the shape of y to (n_samples, ), for example using ravel().\n",
      "/Users/peterniksa/anaconda3/lib/python3.7/site-packages/ipykernel_launcher.py:20: DataConversionWarning: A column-vector y was passed when a 1d array was expected. Please change the shape of y to (n_samples, ), for example using ravel().\n",
      "/Users/peterniksa/anaconda3/lib/python3.7/site-packages/ipykernel_launcher.py:20: DataConversionWarning: A column-vector y was passed when a 1d array was expected. Please change the shape of y to (n_samples, ), for example using ravel().\n"
     ]
    }
   ],
   "source": [
    "# Creating 2 base models\n",
    "# Decision tree as model\n",
    "from sklearn.tree import DecisionTreeClassifier\n",
    "from sklearn.model_selection import train_test_split\n",
    "from sklearn.neighbors import KNeighborsClassifier\n",
    "model1 = DecisionTreeClassifier(random_state=1)\n",
    "# X set\n",
    "X = pd.Series([x for x in range(80)])\n",
    "import random\n",
    "y = pd.Series([round(random.uniform(0, 1)) for _ in X])\n",
    "x_train, x_test, y_train, y_test = train_test_split(X,y, test_size = 0.25, random_state = 5)\n",
    "#X_train, X_test, y_train, y_test \n",
    "x_train = pd.DataFrame(x_train)\n",
    "y_train = pd.DataFrame(y_train)\n",
    "x_test = pd.DataFrame(x_test)\n",
    "y_test= pd.DataFrame(y_test)\n",
    "#print(len(x_test), len(x_train))\n",
    "#generating test and train set for 10 folds given the DecisionTree model\n",
    "test_pred1 ,train_pred1=Stacking(model=model1,n_fold=10, train=x_train,test=x_test,y=y_train)\n",
    "print(len(x_test), len(x_train), len(test_pred1), len(train_pred1))\n",
    "#casting sets to DataFrame\n",
    "train_pred1=pd.DataFrame(train_pred1)\n",
    "test_pred1=pd.DataFrame(test_pred1)\n",
    "# KNN as secondary model\n",
    "model2 = KNeighborsClassifier()\n",
    "# Stacking for k nearest neighbors\n",
    "test_pred2 ,train_pred2=Stacking(model=model2,n_fold=10,train=x_train,test=x_test,y=y_train)\n",
    "# again casting\n",
    "train_pred2=pd.DataFrame(train_pred2)\n",
    "test_pred2=pd.DataFrame(test_pred2)\n",
    "\n",
    "\n",
    "# KNN reinitialization #double?\n",
    "#model2 = KNeighborsClassifier()\n",
    "# another KNN test\n",
    "#test_pred2 ,train_pred2=Stacking(model=model2,n_fold=10,train=x_train,test=x_test,y=y_train)\n",
    "\n",
    "#train_pred2=pd.DataFrame(train_pred2)\n",
    "#test_pred2=pd.DataFrame(test_pred2)"
   ]
  },
  {
   "cell_type": "code",
   "execution_count": 69,
   "metadata": {},
   "outputs": [
    {
     "name": "stdout",
     "output_type": "stream",
     "text": [
      "220 20 220 60\n"
     ]
    },
    {
     "name": "stderr",
     "output_type": "stream",
     "text": [
      "/Users/peterniksa/anaconda3/lib/python3.7/site-packages/sklearn/linear_model/logistic.py:432: FutureWarning: Default solver will be changed to 'lbfgs' in 0.22. Specify a solver to silence this warning.\n",
      "  FutureWarning)\n",
      "/Users/peterniksa/anaconda3/lib/python3.7/site-packages/sklearn/utils/validation.py:724: DataConversionWarning: A column-vector y was passed when a 1d array was expected. Please change the shape of y to (n_samples, ), for example using ravel().\n",
      "  y = column_or_1d(y, warn=True)\n"
     ]
    },
    {
     "data": {
      "text/plain": [
       "0.6"
      ]
     },
     "execution_count": 69,
     "metadata": {},
     "output_type": "execute_result"
    }
   ],
   "source": [
    "#Create a third model, logistic regression, on the predictions of the decision tree and knn models.\n",
    "# create dataframe with pred1 and pred2 for train and test\n",
    "from sklearn.linear_model import LogisticRegression\n",
    "df = pd.concat([train_pred1, train_pred2], axis=1)\n",
    "df_test = pd.concat([test_pred1, test_pred2], axis=1)\n",
    "# initialize Logistic Regression model\n",
    "model = LogisticRegression(random_state=1)\n",
    "# fit logitstic regression using the stacked x data sets for y_train, generate the score\n",
    "model.fit(df,y_train)\n",
    "# evaluate model based on df and y with y_test and df_test\n",
    "print(len(df_test), len(y_test), len(test_pred1), len(train_pred1))\n",
    "df_test\n",
    "model.score(df_test[:len(y_test)], y_test)"
   ]
  },
  {
   "cell_type": "markdown",
   "metadata": {},
   "source": [
    "In order to simplify the above explanation, the stacking model we have created has only two levels. The decision tree and knn models are built at level zero, while a logistic regression model is built at level one. Feel free to create multiple levels in a stacking model.\n",
    "\n",
    " "
   ]
  },
  {
   "cell_type": "markdown",
   "metadata": {
    "collapsed": true
   },
   "source": [
    "One may generate additionally model runs and stack them and even use the first stacked as an intermediary step which is used in a final regression."
   ]
  },
  {
   "cell_type": "code",
   "execution_count": null,
   "metadata": {
    "collapsed": true
   },
   "outputs": [],
   "source": []
  },
  {
   "cell_type": "code",
   "execution_count": null,
   "metadata": {
    "collapsed": true
   },
   "outputs": [],
   "source": []
  },
  {
   "cell_type": "markdown",
   "metadata": {},
   "source": []
  },
  {
   "cell_type": "code",
   "execution_count": null,
   "metadata": {
    "collapsed": true
   },
   "outputs": [],
   "source": []
  }
 ],
 "metadata": {
  "kernelspec": {
   "display_name": "Python 3",
   "language": "python",
   "name": "python3"
  },
  "language_info": {
   "codemirror_mode": {
    "name": "ipython",
    "version": 3
   },
   "file_extension": ".py",
   "mimetype": "text/x-python",
   "name": "python",
   "nbconvert_exporter": "python",
   "pygments_lexer": "ipython3",
   "version": "3.7.3"
  }
 },
 "nbformat": 4,
 "nbformat_minor": 2
}
